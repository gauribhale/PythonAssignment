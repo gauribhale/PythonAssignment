{
 "cells": [
  {
   "cell_type": "code",
   "execution_count": 25,
   "metadata": {},
   "outputs": [
    {
     "name": "stdout",
     "output_type": "stream",
     "text": [
      "enter length1: 3\n",
      "enter length2: 4\n",
      "enter length3: 5\n",
      "area of triangle is 6.000000\n"
     ]
    }
   ],
   "source": [
    "#1.1 \n",
    "class shape():\n",
    "    def __init__(self,a,b,c):\n",
    "        self.a=(a)\n",
    "        self.b=(b)\n",
    "        self.c=(c)\n",
    "\n",
    "class triangle(shape):\n",
    "    \n",
    "    def area_of_triangle(self):\n",
    "        s=(self.a+self.b+self.c)/2\n",
    "        area=(s*(s-self.a)*(s-self.b)*(s-self.c))**0.5\n",
    "        return area\n",
    "\n",
    "length1=float(input(\"enter length1: \"))\n",
    "length2=float(input(\"enter length2: \"))\n",
    "length3=float(input(\"enter length3: \"))\n",
    "\n",
    "tri=triangle(length1,length2,length3)\n",
    "print(\"area of triangle is %f\" %tri.area_of_triangle())"
   ]
  },
  {
   "cell_type": "code",
   "execution_count": 1,
   "metadata": {},
   "outputs": [
    {
     "name": "stdout",
     "output_type": "stream",
     "text": [
      "enter list of words seperated by comma: gauri,jayant,bhale\n",
      "enter an integer: 5\n"
     ]
    },
    {
     "data": {
      "text/plain": [
       "['jayant']"
      ]
     },
     "execution_count": 1,
     "metadata": {},
     "output_type": "execute_result"
    }
   ],
   "source": [
    "#1.2\n",
    "\n",
    "def filter_long_words(word_list,n):\n",
    "    output=[]\n",
    "    for i in word_list:\n",
    "        if len(i)>n:\n",
    "            output.append(i)\n",
    "    return output\n",
    "\n",
    "\n",
    "word_list=input(\"enter list of words seperated by comma: \").split(\",\")\n",
    "n=int(input(\"enter an integer: \"))\n",
    "filter_long_words(word_list,n)\n"
   ]
  },
  {
   "cell_type": "code",
   "execution_count": 2,
   "metadata": {},
   "outputs": [
    {
     "name": "stdout",
     "output_type": "stream",
     "text": [
      "enter list of words seperated by comma: aurangabad,delhi,banglore,mumbai\n"
     ]
    },
    {
     "data": {
      "text/plain": [
       "[10, 5, 8, 6]"
      ]
     },
     "execution_count": 2,
     "metadata": {},
     "output_type": "execute_result"
    }
   ],
   "source": [
    "#2.1\n",
    "\n",
    "def get_word_len(word_list):\n",
    "    output=[]\n",
    "    for i in word_list:\n",
    "        output.append(len(i))\n",
    "    return output\n",
    "    \n",
    "    \n",
    "word_list=input(\"enter list of words seperated by comma: \").split(\",\")\n",
    "get_word_len(word_list)\n"
   ]
  },
  {
   "cell_type": "code",
   "execution_count": 18,
   "metadata": {},
   "outputs": [
    {
     "name": "stdout",
     "output_type": "stream",
     "text": [
      "enter a character: Z\n"
     ]
    },
    {
     "data": {
      "text/plain": [
       "False"
      ]
     },
     "execution_count": 18,
     "metadata": {},
     "output_type": "execute_result"
    }
   ],
   "source": [
    "#2.2\n",
    "def is_vowel(c):\n",
    "    if c in \"aeiou\":\n",
    "        return True\n",
    "    else:\n",
    "        return False\n",
    "            \n",
    "char=input(\"enter a character: \")\n",
    "is_vowel(char.lower())\n",
    "\n"
   ]
  },
  {
   "cell_type": "code",
   "execution_count": null,
   "metadata": {},
   "outputs": [],
   "source": []
  }
 ],
 "metadata": {
  "kernelspec": {
   "display_name": "Python 3",
   "language": "python",
   "name": "python3"
  },
  "language_info": {
   "codemirror_mode": {
    "name": "ipython",
    "version": 3
   },
   "file_extension": ".py",
   "mimetype": "text/x-python",
   "name": "python",
   "nbconvert_exporter": "python",
   "pygments_lexer": "ipython3",
   "version": "3.7.6"
  }
 },
 "nbformat": 4,
 "nbformat_minor": 4
}
