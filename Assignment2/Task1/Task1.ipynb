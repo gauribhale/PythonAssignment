{
 "cells": [
  {
   "cell_type": "code",
   "execution_count": 1,
   "metadata": {},
   "outputs": [
    {
     "name": "stdout",
     "output_type": "stream",
     "text": [
      "['A', 'C', 'A', 'D', 'G', 'I', 'L', 'D']\n"
     ]
    }
   ],
   "source": [
    "#2.1\n",
    "string='ACADGILD'\n",
    "output1=[i for i in string]\n",
    "print(output1)"
   ]
  },
  {
   "cell_type": "code",
   "execution_count": 2,
   "metadata": {},
   "outputs": [
    {
     "name": "stdout",
     "output_type": "stream",
     "text": [
      "['x', 'xx', 'xxx', 'xxxx', 'y', 'yy', 'yyy', 'yyyy', 'z', 'zz', 'zzz', 'zzzz']\n"
     ]
    }
   ],
   "source": [
    "#2.2\n",
    "list=['x','y','z']\n",
    "output2=[i*j for i in list for j in range(1,5)]\n",
    "print(output2)"
   ]
  },
  {
   "cell_type": "code",
   "execution_count": 3,
   "metadata": {},
   "outputs": [
    {
     "name": "stdout",
     "output_type": "stream",
     "text": [
      "['x', 'y', 'z', 'xx', 'yy', 'zz', 'xxx', 'yyy', 'zzz', 'xxxx', 'yyyy', 'zzzz']\n"
     ]
    }
   ],
   "source": [
    "#2.3\n",
    "list=['x','y','z']\n",
    "output3=[j*i for i in range(1,5) for j in list]\n",
    "print(output3)"
   ]
  },
  {
   "cell_type": "code",
   "execution_count": 4,
   "metadata": {},
   "outputs": [
    {
     "name": "stdout",
     "output_type": "stream",
     "text": [
      "[]\n"
     ]
    }
   ],
   "source": [
    "#2.4\n",
    "output4=[]\n",
    "print(output4)"
   ]
  },
  {
   "cell_type": "code",
   "execution_count": 5,
   "metadata": {},
   "outputs": [
    {
     "name": "stdout",
     "output_type": "stream",
     "text": [
      "[[2, 3, 4, 5]]\n"
     ]
    }
   ],
   "source": [
    "#2.5\n",
    "output5=[[i for i in range(2,6)]]\n",
    "print(output5)"
   ]
  },
  {
   "cell_type": "code",
   "execution_count": 6,
   "metadata": {},
   "outputs": [
    {
     "name": "stdout",
     "output_type": "stream",
     "text": [
      "[(1, 1), (2, 1), (3, 1), (1, 2), (2, 2), (3, 2), (1, 3), (2, 3), (3, 3)]\n"
     ]
    }
   ],
   "source": [
    "#2.6\n",
    "output6=[(j,i) for i in range(1,4) for j in range(1,4)]\n",
    "print(output6)"
   ]
  },
  {
   "cell_type": "code",
   "execution_count": 8,
   "metadata": {},
   "outputs": [
    {
     "name": "stdout",
     "output_type": "stream",
     "text": [
      "enter list of words seperated by comma: pune,mumbai,bangalore,chennai\n",
      "pune\n",
      "longest word: bangalore\n"
     ]
    }
   ],
   "source": [
    "#3.\n",
    "def longestWord():\n",
    "    word_list = input(\"enter list of words seperated by comma: \").split(\",\")\n",
    "    \n",
    "    longest = [word_list[0]]\n",
    "    \n",
    "    for i in word_list:\n",
    "         if len(i) > len(longest):\n",
    "            longest = i\n",
    "            \n",
    "    print(\"longest word: \" + str(longest))\n",
    "    \n",
    "longestWord()"
   ]
  }
 ],
 "metadata": {
  "kernelspec": {
   "display_name": "Python 3",
   "language": "python",
   "name": "python3"
  },
  "language_info": {
   "codemirror_mode": {
    "name": "ipython",
    "version": 3
   },
   "file_extension": ".py",
   "mimetype": "text/x-python",
   "name": "python",
   "nbconvert_exporter": "python",
   "pygments_lexer": "ipython3",
   "version": "3.7.6"
  }
 },
 "nbformat": 4,
 "nbformat_minor": 4
}
